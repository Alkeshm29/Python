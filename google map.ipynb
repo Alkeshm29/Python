{
 "cells": [
  {
   "cell_type": "code",
   "execution_count": 43,
   "metadata": {
    "collapsed": true
   },
   "outputs": [],
   "source": [
    "# https://www.geeksforgeeks.org/python-plotting-google-map-using-gmplot-package/\n",
    "# https://www.analyticsvidhya.com/blog/2015/03/hacking-google-maps-create-distance-features-model-applications/"
   ]
  },
  {
   "cell_type": "code",
   "execution_count": 2,
   "metadata": {
    "collapsed": false
   },
   "outputs": [],
   "source": [
    "# import gmplot package\n",
    "import gmplot"
   ]
  },
  {
   "cell_type": "code",
   "execution_count": 13,
   "metadata": {
    "collapsed": true
   },
   "outputs": [],
   "source": [
    "gmap1 = gmplot.GoogleMapPlotter(12.9716,77.5946, 13 )\n",
    " \n",
    "# Pass the absolute path\n",
    "gmap1.draw( \"bangalore.html\" )"
   ]
  },
  {
   "cell_type": "code",
   "execution_count": 8,
   "metadata": {
    "collapsed": true
   },
   "outputs": [],
   "source": [
    "# from_geocode method return the\n",
    "# latitude and longitude of given location .\n",
    "gmap2 = gmplot.GoogleMapPlotter.from_geocode( \"Betawad, India\" )\n",
    " \n",
    "gmap2.draw( \"betawadmap.html\" )"
   ]
  },
  {
   "cell_type": "code",
   "execution_count": null,
   "metadata": {
    "collapsed": true
   },
   "outputs": [],
   "source": []
  },
  {
   "cell_type": "code",
   "execution_count": 18,
   "metadata": {
    "collapsed": true
   },
   "outputs": [],
   "source": [
    "latitude_list = [ 12.9716, 18.5204, 20.9042  ]\n",
    "longitude_list = [ 77.5946, 73.8567,  74.7749]\n",
    " \n",
    "gmap3 = gmplot.GoogleMapPlotter(12.9716,77.5946, 13)\n",
    "\n",
    "\n",
    "gmap3.scatter( latitude_list, longitude_list, '# FF0000',\n",
    "                              size = 40, marker = False )\n",
    " \n",
    "# Plot method Draw a line in\n",
    "gmap3.plot(latitude_list, longitude_list, \n",
    "           'cornflowerblue', edge_width = 2.5)\n",
    " \n",
    "gmap3.draw( \"blr_pnq.html\" )"
   ]
  },
  {
   "cell_type": "code",
   "execution_count": 28,
   "metadata": {
    "collapsed": false
   },
   "outputs": [],
   "source": [
    "latitude_list = [20.9042,20.9715,20.8899,20.9212]\n",
    "longitude_list = [74.7749,74.7842,74.8376,74.7536]\n",
    "gmap4 = gmplot.GoogleMapPlotter.from_geocode(\"Dhule, India\")\n",
    " \n",
    "gmap4.heatmap( latitude_list, longitude_list )\n",
    " \n",
    "gmap4.draw( \"dhl-Spot.html\" )"
   ]
  },
  {
   "cell_type": "code",
   "execution_count": 33,
   "metadata": {
    "collapsed": true
   },
   "outputs": [],
   "source": [
    "latitude_list = [20.9042,20.9715,20.8899,20.9212]\n",
    "longitude_list = [74.7749,74.7842,74.8376,74.7536]\n",
    " \n",
    "gmap5 = gmplot.GoogleMapPlotter(20.9042,74.7749, 13)\n",
    " \n",
    "gmap5.scatter( latitude_list, longitude_list, '# FF0000',\n",
    "                                size = 40, marker = False)\n",
    " \n",
    "# polygon method Draw a polygon with\n",
    "# the help of coordinates\n",
    "gmap5.polygon(latitude_list, longitude_list,\n",
    "                   color = 'cornflowerblue')\n",
    " \n",
    "gmap5.draw( \"polygon.html\" )"
   ]
  },
  {
   "cell_type": "code",
   "execution_count": 42,
   "metadata": {
    "collapsed": true
   },
   "outputs": [],
   "source": [
    "# Distance by Air"
   ]
  },
  {
   "cell_type": "code",
   "execution_count": 41,
   "metadata": {
    "collapsed": false
   },
   "outputs": [
    {
     "name": "stdout",
     "output_type": "stream",
     "text": [
      "927.7606012221141\n"
     ]
    }
   ],
   "source": [
    "import geopy.distance\n",
    "\n",
    "dhl = (20.9042, 74.7749)\n",
    "blr = (12.9716, 77.5946)\n",
    "\n",
    "c1=(latitude_list[0],longitude_list[0])\n",
    "c2=(latitude_list[1],longitude_list[1])\n",
    "\n",
    "#By air\n",
    "print(geopy.distance.vincenty(dhl, blr).km)\n",
    "# print(geopy.distance.vincenty(c1, c2).km)"
   ]
  },
  {
   "cell_type": "code",
   "execution_count": null,
   "metadata": {
    "collapsed": true
   },
   "outputs": [],
   "source": []
  },
  {
   "cell_type": "code",
   "execution_count": null,
   "metadata": {
    "collapsed": true
   },
   "outputs": [],
   "source": [
    "# getting distance between two location using geocoding\n",
    "# Sof"
   ]
  },
  {
   "cell_type": "code",
   "execution_count": 1,
   "metadata": {
    "collapsed": false
   },
   "outputs": [
    {
     "data": {
      "text/plain": [
       "931.5668705261039"
      ]
     },
     "execution_count": 1,
     "metadata": {},
     "output_type": "execute_result"
    }
   ],
   "source": [
    "from geopy.distance import great_circle\n",
    "\n",
    "dhl = (20.9042, 74.7749)\n",
    "blr = (12.9716, 77.5946)\n",
    "\n",
    "great_circle(dhl, blr).kilometers"
   ]
  },
  {
   "cell_type": "code",
   "execution_count": null,
   "metadata": {
    "collapsed": true
   },
   "outputs": [],
   "source": []
  }
 ],
 "metadata": {
  "anaconda-cloud": {},
  "kernelspec": {
   "display_name": "Python [default]",
   "language": "python",
   "name": "python3"
  },
  "language_info": {
   "codemirror_mode": {
    "name": "ipython",
    "version": 3
   },
   "file_extension": ".py",
   "mimetype": "text/x-python",
   "name": "python",
   "nbconvert_exporter": "python",
   "pygments_lexer": "ipython3",
   "version": "3.5.2"
  }
 },
 "nbformat": 4,
 "nbformat_minor": 1
}
